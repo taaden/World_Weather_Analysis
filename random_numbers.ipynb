{
 "cells": [
  {
   "cell_type": "code",
   "execution_count": 1,
   "id": "bc4b25f3",
   "metadata": {},
   "outputs": [],
   "source": [
    "# Import the random module.\n",
    "import random"
   ]
  },
  {
   "cell_type": "code",
   "execution_count": 2,
   "id": "3e1fc711",
   "metadata": {},
   "outputs": [
    {
     "data": {
      "text/plain": [
       "79"
      ]
     },
     "execution_count": 2,
     "metadata": {},
     "output_type": "execute_result"
    }
   ],
   "source": [
    "# The randint() Function\n",
    "random.randint(-90, 90)"
   ]
  },
  {
   "cell_type": "code",
   "execution_count": 3,
   "id": "e76ce1b0",
   "metadata": {},
   "outputs": [
    {
     "data": {
      "text/plain": [
       "0.2910272421266531"
      ]
     },
     "execution_count": 3,
     "metadata": {},
     "output_type": "execute_result"
    }
   ],
   "source": [
    "# The random() Function\n",
    "random.random()"
   ]
  },
  {
   "cell_type": "code",
   "execution_count": 4,
   "id": "28b54d6c",
   "metadata": {},
   "outputs": [
    {
     "data": {
      "text/plain": [
       "-39.04326501202828"
      ]
     },
     "execution_count": 4,
     "metadata": {},
     "output_type": "execute_result"
    }
   ],
   "source": [
    "# combine random.randint(-90, 89) and random.random()\n",
    "random_number = random.randint(-90, 89) + random.random()\n",
    "random_number"
   ]
  },
  {
   "cell_type": "code",
   "execution_count": 6,
   "id": "1d89ee82",
   "metadata": {},
   "outputs": [],
   "source": [
    "x = 1\n",
    "latitudes = []\n",
    "while x < 11:\n",
    "    random_lat = random.randint(-90, 89) + random.random()\n",
    "    latitudes.append(random_lat)\n",
    "    x += 1"
   ]
  },
  {
   "cell_type": "code",
   "execution_count": 7,
   "id": "bc2061ac",
   "metadata": {},
   "outputs": [
    {
     "data": {
      "text/plain": [
       "[-20.099360728754537,\n",
       " -75.04071801506221,\n",
       " 23.89514758574455,\n",
       " -16.380465691900817,\n",
       " 77.70706544764283,\n",
       " 5.240155748638118,\n",
       " -76.99808459742323,\n",
       " 2.6716560240673237,\n",
       " 73.72568112237686,\n",
       " -89.58510276796623]"
      ]
     },
     "execution_count": 7,
     "metadata": {},
     "output_type": "execute_result"
    }
   ],
   "source": [
    "latitudes"
   ]
  },
  {
   "cell_type": "code",
   "execution_count": 8,
   "id": "24519a9d",
   "metadata": {},
   "outputs": [
    {
     "data": {
      "text/plain": [
       "47"
      ]
     },
     "execution_count": 8,
     "metadata": {},
     "output_type": "execute_result"
    }
   ],
   "source": [
    "# The randrange() Function\n",
    "random.randrange(-90, 90, step=1)"
   ]
  },
  {
   "cell_type": "code",
   "execution_count": 9,
   "id": "8557308b",
   "metadata": {},
   "outputs": [
    {
     "data": {
      "text/plain": [
       "45"
      ]
     },
     "execution_count": 9,
     "metadata": {},
     "output_type": "execute_result"
    }
   ],
   "source": [
    "random.randrange(-90, 90, step=3)"
   ]
  },
  {
   "cell_type": "code",
   "execution_count": 10,
   "id": "cb168420",
   "metadata": {},
   "outputs": [
    {
     "data": {
      "text/plain": [
       "39"
      ]
     },
     "execution_count": 10,
     "metadata": {},
     "output_type": "execute_result"
    }
   ],
   "source": [
    "random.randrange(-90, 90, step=3)"
   ]
  },
  {
   "cell_type": "code",
   "execution_count": 11,
   "id": "92d1fdda",
   "metadata": {},
   "outputs": [
    {
     "data": {
      "text/plain": [
       "14.857553620079791"
      ]
     },
     "execution_count": 11,
     "metadata": {},
     "output_type": "execute_result"
    }
   ],
   "source": [
    " # combining the random.randrange() and random.random() functions to generate a floating-point decimal between -90 and 90,\n",
    "random.randrange(-90, 90, step=1) + random.random() "
   ]
  },
  {
   "cell_type": "code",
   "execution_count": 12,
   "id": "d00b55a1",
   "metadata": {},
   "outputs": [
    {
     "data": {
      "text/plain": [
       "11.808330360739504"
      ]
     },
     "execution_count": 12,
     "metadata": {},
     "output_type": "execute_result"
    }
   ],
   "source": [
    "# The uniform() Function\n",
    "random.uniform(-90, 90)"
   ]
  },
  {
   "cell_type": "code",
   "execution_count": 13,
   "id": "e30d8968",
   "metadata": {},
   "outputs": [],
   "source": [
    "# Import the NumPy module.\n",
    "import numpy as np"
   ]
  },
  {
   "cell_type": "code",
   "execution_count": 14,
   "id": "cfa8c2da",
   "metadata": {},
   "outputs": [
    {
     "data": {
      "text/plain": [
       "-13.899526261476979"
      ]
     },
     "execution_count": 14,
     "metadata": {},
     "output_type": "execute_result"
    }
   ],
   "source": [
    "np.random.uniform(-90.000, 90.000)"
   ]
  },
  {
   "cell_type": "code",
   "execution_count": 15,
   "id": "9c544722",
   "metadata": {},
   "outputs": [
    {
     "data": {
      "text/plain": [
       "array([-15.33968453,  81.31196309, -32.93938567,  52.42923497,\n",
       "        43.82381095,  64.4669424 , -18.00490923,  67.78491823,\n",
       "        45.97177654,  62.02531638,  48.01475694, -63.66511273,\n",
       "        38.57907371, -26.93446272,  40.1646749 ,  88.7606428 ,\n",
       "        -8.84745879,  16.37643665,  -2.20356137,  23.90030958,\n",
       "        71.83859645,  63.74030648,  74.71597706,  43.85585744,\n",
       "       -58.63341155, -13.22007635, -86.91364178, -84.2927367 ,\n",
       "        53.95468707,  45.46226472,  -8.99742396,  20.91482069,\n",
       "       -78.63447158,  55.52868799, -40.41604952, -85.02090178,\n",
       "       -58.22191606,  68.76027573,  -1.8073476 ,  75.53565059,\n",
       "         7.45665768, -57.59701628,  13.43372502,  39.6602607 ,\n",
       "       -64.8791031 , -12.86915408, -58.08038447,  75.4559471 ,\n",
       "        34.68931951, -64.60997845])"
      ]
     },
     "execution_count": 15,
     "metadata": {},
     "output_type": "execute_result"
    }
   ],
   "source": [
    "np.random.uniform(low=-90, high=90,size= 50)"
   ]
  },
  {
   "cell_type": "code",
   "execution_count": 17,
   "id": "65cabecd",
   "metadata": {},
   "outputs": [],
   "source": [
    "# Import timeit.\n",
    "import timeit"
   ]
  },
  {
   "cell_type": "code",
   "execution_count": 18,
   "id": "a3af98a4",
   "metadata": {},
   "outputs": [
    {
     "name": "stdout",
     "output_type": "stream",
     "text": [
      "24.7 µs ± 3.17 µs per loop (mean ± std. dev. of 7 runs, 10,000 loops each)\n"
     ]
    }
   ],
   "source": [
    "%timeit np.random.uniform(-90.000, 90.000, size=1500)"
   ]
  },
  {
   "cell_type": "code",
   "execution_count": 19,
   "id": "320f7394",
   "metadata": {},
   "outputs": [
    {
     "name": "stdout",
     "output_type": "stream",
     "text": [
      "2.22 ms ± 106 µs per loop (mean ± std. dev. of 7 runs, 1,000 loops each)\n"
     ]
    }
   ],
   "source": [
    "#\n",
    "def latitudes(size):\n",
    "    latitudes = []\n",
    "    x = 0\n",
    "    while x < (size):\n",
    "        random_lat = random.randint(-90, 90) + random.random()\n",
    "        latitudes.append(random_lat)\n",
    "        x += 1\n",
    "    return latitudes\n",
    "# Call the function with 1500.\n",
    "%timeit latitudes(1500)"
   ]
  }
 ],
 "metadata": {
  "kernelspec": {
   "display_name": "PythonData",
   "language": "python",
   "name": "pythondata"
  },
  "language_info": {
   "codemirror_mode": {
    "name": "ipython",
    "version": 3
   },
   "file_extension": ".py",
   "mimetype": "text/x-python",
   "name": "python",
   "nbconvert_exporter": "python",
   "pygments_lexer": "ipython3",
   "version": "3.9.12"
  }
 },
 "nbformat": 4,
 "nbformat_minor": 5
}
